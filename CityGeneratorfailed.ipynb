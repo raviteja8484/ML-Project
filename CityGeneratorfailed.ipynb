{
  "nbformat": 4,
  "nbformat_minor": 0,
  "metadata": {
    "colab": {
      "name": "CityGeneratorfailed.ipynb",
      "version": "0.3.2",
      "views": {},
      "default_view": {},
      "provenance": [],
      "collapsed_sections": []
    },
    "kernelspec": {
      "name": "python3",
      "display_name": "Python 3"
    }
  },
  "cells": [
    {
      "metadata": {
        "id": "11hb5tsLTwd3",
        "colab_type": "code",
        "colab": {
          "autoexec": {
            "startup": false,
            "wait_interval": 0
          },
          "base_uri": "https://localhost:8080/",
          "height": 33
        },
        "outputId": "a45816ed-122f-4818-d330-1967549a258f",
        "executionInfo": {
          "status": "ok",
          "timestamp": 1529802320258,
          "user_tz": -330,
          "elapsed": 2739,
          "user": {
            "displayName": "Ravi Teja",
            "photoUrl": "//lh6.googleusercontent.com/-Z0Ztu7qqu54/AAAAAAAAAAI/AAAAAAAAAE4/zEJLgQeRStY/s50-c-k-no/photo.jpg",
            "userId": "102256566372660184831"
          }
        }
      },
      "cell_type": "code",
      "source": [
        "import sys\n",
        "import numpy\n",
        "from keras.models import Sequential\n",
        "from keras.layers import Dense\n",
        "from keras.layers import Dropout\n",
        "from keras.layers import LSTM\n",
        "from keras.callbacks import ModelCheckpoint\n",
        "from keras.utils import np_utils"
      ],
      "execution_count": 1,
      "outputs": [
        {
          "output_type": "stream",
          "text": [
            "Using TensorFlow backend.\n"
          ],
          "name": "stderr"
        }
      ]
    },
    {
      "metadata": {
        "id": "TmXwpJ6dUyDD",
        "colab_type": "code",
        "colab": {
          "autoexec": {
            "startup": false,
            "wait_interval": 0
          },
          "base_uri": "https://localhost:8080/",
          "height": 201
        },
        "outputId": "115e4a06-07c2-4ec9-a231-e9d2fcd2b0fa",
        "executionInfo": {
          "status": "ok",
          "timestamp": 1529802351624,
          "user_tz": -330,
          "elapsed": 2145,
          "user": {
            "displayName": "Ravi Teja",
            "photoUrl": "//lh6.googleusercontent.com/-Z0Ztu7qqu54/AAAAAAAAAAI/AAAAAAAAAE4/zEJLgQeRStY/s50-c-k-no/photo.jpg",
            "userId": "102256566372660184831"
          }
        }
      },
      "cell_type": "code",
      "source": [
        "!wget https://github.com/raviteja8484/ML/blob/master/cities.txt"
      ],
      "execution_count": 2,
      "outputs": [
        {
          "output_type": "stream",
          "text": [
            "--2018-06-24 01:05:51--  https://github.com/raviteja8484/ML/blob/master/cities.txt\r\n",
            "Resolving github.com (github.com)... 192.30.253.113, 192.30.253.112\n",
            "Connecting to github.com (github.com)|192.30.253.113|:443... connected.\n",
            "HTTP request sent, awaiting response... 200 OK\n",
            "Length: unspecified [text/html]\n",
            "Saving to: ‘cities.txt’\n",
            "\n",
            "cities.txt              [ <=>                ] 232.69K  --.-KB/s    in 0.05s   \n",
            "\n",
            "2018-06-24 01:05:51 (4.47 MB/s) - ‘cities.txt’ saved [238276]\n",
            "\n"
          ],
          "name": "stdout"
        }
      ]
    },
    {
      "metadata": {
        "id": "SDQFAgCiU3ok",
        "colab_type": "code",
        "colab": {
          "autoexec": {
            "startup": false,
            "wait_interval": 0
          },
          "base_uri": "https://localhost:8080/",
          "height": 33
        },
        "outputId": "4445d210-fe90-43b7-997a-fd83d6c10c26",
        "executionInfo": {
          "status": "ok",
          "timestamp": 1529802360682,
          "user_tz": -330,
          "elapsed": 1873,
          "user": {
            "displayName": "Ravi Teja",
            "photoUrl": "//lh6.googleusercontent.com/-Z0Ztu7qqu54/AAAAAAAAAAI/AAAAAAAAAE4/zEJLgQeRStY/s50-c-k-no/photo.jpg",
            "userId": "102256566372660184831"
          }
        }
      },
      "cell_type": "code",
      "source": [
        "ls"
      ],
      "execution_count": 3,
      "outputs": [
        {
          "output_type": "stream",
          "text": [
            "cities.txt  \u001b[0m\u001b[01;34mdatalab\u001b[0m/\r\n"
          ],
          "name": "stdout"
        }
      ]
    },
    {
      "metadata": {
        "id": "IQGU6-GdU3_S",
        "colab_type": "code",
        "colab": {
          "autoexec": {
            "startup": false,
            "wait_interval": 0
          }
        }
      },
      "cell_type": "code",
      "source": [
        "filename = \"cities.txt\"\n",
        "raw_text = open(filename).read()\n",
        "raw_text = raw_text.lower()"
      ],
      "execution_count": 0,
      "outputs": []
    },
    {
      "metadata": {
        "id": "0fr87Ei6VBpo",
        "colab_type": "code",
        "colab": {
          "autoexec": {
            "startup": false,
            "wait_interval": 0
          }
        }
      },
      "cell_type": "code",
      "source": [
        "chars = sorted(list(set(raw_text)))\n",
        "char_to_int = dict((c, i) for i, c in enumerate(chars))\n",
        "int_to_char = dict((i, c) for i, c in enumerate(chars))"
      ],
      "execution_count": 0,
      "outputs": []
    },
    {
      "metadata": {
        "id": "FYvUVuYuVFw9",
        "colab_type": "code",
        "colab": {
          "autoexec": {
            "startup": false,
            "wait_interval": 0
          },
          "base_uri": "https://localhost:8080/",
          "height": 50
        },
        "outputId": "7434a78e-8c0c-419d-9bc8-ec490f7569df",
        "executionInfo": {
          "status": "ok",
          "timestamp": 1529802440956,
          "user_tz": -330,
          "elapsed": 882,
          "user": {
            "displayName": "Ravi Teja",
            "photoUrl": "//lh6.googleusercontent.com/-Z0Ztu7qqu54/AAAAAAAAAAI/AAAAAAAAAE4/zEJLgQeRStY/s50-c-k-no/photo.jpg",
            "userId": "102256566372660184831"
          }
        }
      },
      "cell_type": "code",
      "source": [
        "n_chars = len(raw_text)\n",
        "n_vocab = len(chars)\n",
        "print (\"Total Characters: \", n_chars)\n",
        "print (\"Total Vocab: \", n_vocab)"
      ],
      "execution_count": 7,
      "outputs": [
        {
          "output_type": "stream",
          "text": [
            "Total Characters:  238170\n",
            "Total Vocab:  84\n"
          ],
          "name": "stdout"
        }
      ]
    },
    {
      "metadata": {
        "id": "wQgWIf72VPjK",
        "colab_type": "code",
        "colab": {
          "autoexec": {
            "startup": false,
            "wait_interval": 0
          }
        }
      },
      "cell_type": "code",
      "source": [
        "seq_length = 100\n",
        "dataX = []\n",
        "dataY = []\n",
        "for i in range(0, n_chars - seq_length, 1):\n",
        "\tseq_in = raw_text[i:i + seq_length]\n",
        "\tseq_out = raw_text[i + seq_length]\n",
        "\tdataX.append([char_to_int[char] for char in seq_in])\n",
        "\tdataY.append(char_to_int[seq_out])\n",
        "n_patterns = len(dataX)"
      ],
      "execution_count": 0,
      "outputs": []
    },
    {
      "metadata": {
        "id": "Lz-uputKVVe9",
        "colab_type": "code",
        "colab": {
          "autoexec": {
            "startup": false,
            "wait_interval": 0
          },
          "base_uri": "https://localhost:8080/",
          "height": 33
        },
        "outputId": "2e118eb1-c7a0-4422-fcd2-6c7f540a4759",
        "executionInfo": {
          "status": "ok",
          "timestamp": 1529802505668,
          "user_tz": -330,
          "elapsed": 853,
          "user": {
            "displayName": "Ravi Teja",
            "photoUrl": "//lh6.googleusercontent.com/-Z0Ztu7qqu54/AAAAAAAAAAI/AAAAAAAAAE4/zEJLgQeRStY/s50-c-k-no/photo.jpg",
            "userId": "102256566372660184831"
          }
        }
      },
      "cell_type": "code",
      "source": [
        "print (\"Total Patterns: \", n_patterns)"
      ],
      "execution_count": 10,
      "outputs": [
        {
          "output_type": "stream",
          "text": [
            "Total Patterns:  238070\n"
          ],
          "name": "stdout"
        }
      ]
    },
    {
      "metadata": {
        "id": "u6aorFQXVh3Z",
        "colab_type": "code",
        "colab": {
          "autoexec": {
            "startup": false,
            "wait_interval": 0
          }
        }
      },
      "cell_type": "code",
      "source": [
        "# reshape X to be [samples, time steps, features]\n",
        "X = numpy.reshape(dataX, (n_patterns, seq_length, 1))\n",
        "# normalize\n",
        "X = X / float(n_vocab)\n",
        "# one hot encode the output variable\n",
        "y = np_utils.to_categorical(dataY)"
      ],
      "execution_count": 0,
      "outputs": []
    },
    {
      "metadata": {
        "id": "MnT1RzaYVvfT",
        "colab_type": "code",
        "colab": {
          "autoexec": {
            "startup": false,
            "wait_interval": 0
          }
        }
      },
      "cell_type": "code",
      "source": [
        "model = Sequential()\n",
        "model.add(LSTM(256, input_shape=(X.shape[1], X.shape[2])))\n",
        "model.add(Dropout(0.2))\n",
        "model.add(Dense(y.shape[1], activation='softmax'))"
      ],
      "execution_count": 0,
      "outputs": []
    },
    {
      "metadata": {
        "id": "vfC0Ouv_WcM1",
        "colab_type": "code",
        "colab": {
          "autoexec": {
            "startup": false,
            "wait_interval": 0
          }
        }
      },
      "cell_type": "code",
      "source": [
        "filepath=\"weights-tex.hdf5\"\n",
        "checkpoint = ModelCheckpoint(filepath, monitor='loss', verbose=1, save_best_only=True, mode='min')\n",
        "callbacks_list = [checkpoint]"
      ],
      "execution_count": 0,
      "outputs": []
    },
    {
      "metadata": {
        "id": "_620RWEKXE4b",
        "colab_type": "code",
        "colab": {
          "autoexec": {
            "startup": false,
            "wait_interval": 0
          }
        }
      },
      "cell_type": "code",
      "source": [
        "import keras"
      ],
      "execution_count": 0,
      "outputs": []
    },
    {
      "metadata": {
        "id": "Z8voFxqKWyqw",
        "colab_type": "code",
        "colab": {
          "autoexec": {
            "startup": false,
            "wait_interval": 0
          }
        }
      },
      "cell_type": "code",
      "source": [
        "optimizer = keras.optimizers.Adam(lr=0.001)\n",
        "model.compile(loss='categorical_crossentropy', optimizer=optimizer)"
      ],
      "execution_count": 0,
      "outputs": []
    },
    {
      "metadata": {
        "id": "_tFVs5YhWhUL",
        "colab_type": "code",
        "colab": {
          "autoexec": {
            "startup": false,
            "wait_interval": 0
          },
          "base_uri": "https://localhost:8080/",
          "height": 452
        },
        "outputId": "355db93a-0fe9-4d4f-8c3a-913ae3a68acb"
      },
      "cell_type": "code",
      "source": [
        "model.fit(X, y, epochs=10, batch_size=128, callbacks=callbacks_list)"
      ],
      "execution_count": 0,
      "outputs": [
        {
          "output_type": "stream",
          "text": [
            "Epoch 1/10\n",
            "238070/238070 [==============================] - 1199s 5ms/step - loss: 2.9154\n"
          ],
          "name": "stdout"
        },
        {
          "output_type": "stream",
          "text": [
            "\n",
            "Epoch 00001: loss improved from inf to 2.91538, saving model to weights-tex.hdf5\n",
            "Epoch 2/10\n",
            " 76544/238070 [========>.....................] - ETA: 13:28 - loss: 2.2384"
          ],
          "name": "stdout"
        },
        {
          "output_type": "stream",
          "text": [
            "238070/238070 [==============================] - 1190s 5ms/step - loss: 2.1178\n",
            "\n",
            "Epoch 00002: loss improved from 2.91538 to 2.11778, saving model to weights-tex.hdf5\n",
            "Epoch 3/10\n",
            "  3712/238070 [..............................] - ETA: 19:27 - loss: 1.9450"
          ],
          "name": "stdout"
        },
        {
          "output_type": "stream",
          "text": [
            "238070/238070 [==============================] - 1193s 5ms/step - loss: 2.1358\n"
          ],
          "name": "stdout"
        },
        {
          "output_type": "stream",
          "text": [
            "\n",
            "Epoch 00003: loss did not improve from 2.11778\n",
            "Epoch 4/10\n",
            " 96128/238070 [===========>..................] - ETA: 11:53 - loss: 2.2871"
          ],
          "name": "stdout"
        },
        {
          "output_type": "stream",
          "text": [
            "238070/238070 [==============================] - 1198s 5ms/step - loss: 2.0684\n",
            "\n",
            "Epoch 00004: loss improved from 2.11778 to 2.06842, saving model to weights-tex.hdf5\n",
            "Epoch 5/10\n",
            "  9472/238070 [>.............................] - ETA: 19:19 - loss: 1.8610"
          ],
          "name": "stdout"
        },
        {
          "output_type": "stream",
          "text": [
            "238070/238070 [==============================] - 1202s 5ms/step - loss: 1.8304\n"
          ],
          "name": "stdout"
        },
        {
          "output_type": "stream",
          "text": [
            "\n",
            "Epoch 00005: loss improved from 2.06842 to 1.83037, saving model to weights-tex.hdf5\n",
            "Epoch 6/10\n",
            " 74752/238070 [========>.....................] - ETA: 13:47 - loss: 1.7985"
          ],
          "name": "stdout"
        },
        {
          "output_type": "stream",
          "text": [
            "238070/238070 [==============================] - 1203s 5ms/step - loss: 1.7790\n",
            "\n",
            "Epoch 00006: loss improved from 1.83037 to 1.77900, saving model to weights-tex.hdf5\n",
            "Epoch 7/10\n",
            "  3200/238070 [..............................] - ETA: 19:47 - loss: 1.7580"
          ],
          "name": "stdout"
        },
        {
          "output_type": "stream",
          "text": [
            "201344/238070 [========================>.....] - ETA: 3:05 - loss: 1.7461"
          ],
          "name": "stdout"
        }
      ]
    },
    {
      "metadata": {
        "id": "DHT53unwcXOu",
        "colab_type": "code",
        "colab": {
          "autoexec": {
            "startup": false,
            "wait_interval": 0
          }
        }
      },
      "cell_type": "code",
      "source": [
        "epoch = 10\n",
        "epochs = 12\n",
        "\n",
        "model.fit(X, y, epochs=epochs,initial_epoch=epoch, batch_size=128, callbacks=callbacks_list)\n",
        "model.save_weights(\"text.h5\")\n",
        "print(\"Saved model to disk\")"
      ],
      "execution_count": 0,
      "outputs": []
    },
    {
      "metadata": {
        "id": "nBI7FvpTYSe0",
        "colab_type": "code",
        "colab": {
          "autoexec": {
            "startup": false,
            "wait_interval": 0
          }
        }
      },
      "cell_type": "code",
      "source": [
        "filename = \"weights-tex.hdf5\"\n",
        "model.load_weights(filename)\n",
        "model.compile(loss='categorical_crossentropy', optimizer=optimizer)"
      ],
      "execution_count": 0,
      "outputs": []
    },
    {
      "metadata": {
        "id": "U44r4TNkYWXD",
        "colab_type": "code",
        "colab": {
          "autoexec": {
            "startup": false,
            "wait_interval": 0
          }
        }
      },
      "cell_type": "code",
      "source": [
        "start = numpy.random.randint(0, len(dataX)-1)\n",
        "pattern = dataX[start]\n",
        "print (\"Seed:\")\n",
        "print (\"\\\"\", ''.join([int_to_char[value] for value in pattern]), \"\\\"\")"
      ],
      "execution_count": 0,
      "outputs": []
    },
    {
      "metadata": {
        "id": "V6vh4Cw_YhjO",
        "colab_type": "code",
        "colab": {
          "autoexec": {
            "startup": false,
            "wait_interval": 0
          }
        }
      },
      "cell_type": "code",
      "source": [
        "for i in range(100):\n",
        "\tx = numpy.reshape(pattern, (1, len(pattern), 1))\n",
        "\tx = x / float(n_vocab)\n",
        "\tprediction = model.predict(x, verbose=0)\n",
        "\tindex = numpy.argmax(prediction)\n",
        "\tresult = int_to_char[index]\n",
        "\tseq_in = [int_to_char[value] for value in pattern]\n",
        "\tsys.stdout.write(result)\n",
        "\tpattern.append(index)\n",
        "\tpattern = pattern[1:len(pattern)]\n",
        "print \"\\nDone.\""
      ],
      "execution_count": 0,
      "outputs": []
    }
  ]
}